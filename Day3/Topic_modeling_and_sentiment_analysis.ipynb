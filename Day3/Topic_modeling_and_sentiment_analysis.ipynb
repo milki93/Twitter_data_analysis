{
 "cells": [
  {
   "cell_type": "code",
   "execution_count": 41,
   "metadata": {},
   "outputs": [],
   "source": [
    "import warnings\n",
    "warnings.filterwarnings('ignore')\n",
    "from nltk.stem import PorterStemmer\n",
    "import pandas as pd\n",
    "from wordcloud import STOPWORDS,WordCloud\n",
    "import re"
   ]
  },
  {
   "cell_type": "code",
   "execution_count": 2,
   "metadata": {},
   "outputs": [],
   "source": [
    "stemmer = PorterStemmer()"
   ]
  },
  {
   "cell_type": "code",
   "execution_count": 3,
   "metadata": {},
   "outputs": [],
   "source": [
    "def get_stem_word(text: str) -> str:\n",
    "    \n",
    "    stemmed_words = []\n",
    "    sent_list = text.split()\n",
    "    \n",
    "    for word in sent_list:\n",
    "        try:\n",
    "            stemmed_words.append(stemmer.stem(word)) \n",
    "        except:\n",
    "             stemmed_words.append(word)\n",
    "    return ' '.join(stemmed_words)"
   ]
  },
  {
   "cell_type": "code",
   "execution_count": 17,
   "metadata": {},
   "outputs": [],
   "source": [
    "df = pd.read_csv('cleaned_fintech_data.csv')"
   ]
  },
  {
   "cell_type": "code",
   "execution_count": 28,
   "metadata": {},
   "outputs": [],
   "source": [
    "# df.polarity.astype(float)"
   ]
  },
  {
   "cell_type": "code",
   "execution_count": 26,
   "metadata": {},
   "outputs": [
    {
     "data": {
      "text/plain": [
       "Unnamed: 0                   1\n",
       "created_at                   0\n",
       "source                       0\n",
       "original_text                0\n",
       "clean_text                   4\n",
       "sentiment                    0\n",
       "polarity                     0\n",
       "subjectivity                 0\n",
       "lang                         0\n",
       "favorite_count               0\n",
       "retweet_count                0\n",
       "original_author              0\n",
       "screen_count                 0\n",
       "followers_count              0\n",
       "friends_count                0\n",
       "possibly_sensitive        5490\n",
       "hashtags                  4808\n",
       "user_mentions                0\n",
       "place                     5620\n",
       "place_coord_boundaries    2018\n",
       "timestamp                    0\n",
       "dtype: int64"
      ]
     },
     "execution_count": 26,
     "metadata": {},
     "output_type": "execute_result"
    }
   ],
   "source": [
    "df.isna().sum()"
   ]
  },
  {
   "cell_type": "code",
   "execution_count": null,
   "metadata": {},
   "outputs": [],
   "source": [
    "df.polarity.astype()"
   ]
  },
  {
   "cell_type": "code",
   "execution_count": 8,
   "metadata": {},
   "outputs": [
    {
     "name": "stdout",
     "output_type": "stream",
     "text": [
      "<class 'pandas.core.frame.DataFrame'>\n",
      "RangeIndex: 5621 entries, 0 to 5620\n",
      "Data columns (total 21 columns):\n",
      " #   Column                  Non-Null Count  Dtype  \n",
      "---  ------                  --------------  -----  \n",
      " 0   Unnamed: 0              5620 non-null   float64\n",
      " 1   created_at              5621 non-null   object \n",
      " 2   source                  5621 non-null   object \n",
      " 3   original_text           5621 non-null   object \n",
      " 4   clean_text              5617 non-null   object \n",
      " 5   sentiment               5621 non-null   object \n",
      " 6   polarity                5621 non-null   object \n",
      " 7   subjectivity            5621 non-null   object \n",
      " 8   lang                    5621 non-null   object \n",
      " 9   favorite_count          5621 non-null   object \n",
      " 10  retweet_count           5621 non-null   object \n",
      " 11  original_author         5621 non-null   object \n",
      " 12  screen_count            5621 non-null   object \n",
      " 13  followers_count         5621 non-null   object \n",
      " 14  friends_count           5621 non-null   object \n",
      " 15  possibly_sensitive      131 non-null    object \n",
      " 16  hashtags                813 non-null    object \n",
      " 17  user_mentions           5621 non-null   object \n",
      " 18  place                   1 non-null      object \n",
      " 19  place_coord_boundaries  3603 non-null   object \n",
      " 20  timestamp               5621 non-null   object \n",
      "dtypes: float64(1), object(20)\n",
      "memory usage: 922.3+ KB\n"
     ]
    }
   ],
   "source": [
    "# inspecting the columns\n",
    "df.info()"
   ]
  },
  {
   "cell_type": "code",
   "execution_count": 34,
   "metadata": {},
   "outputs": [],
   "source": [
    "# Filling NaN using mode\n",
    "df['hashtags'].fillna(df['hashtags'].mode()[0],inplace=True)\n",
    "df['place_coord_boundaries'].fillna(df['place_coord_boundaries'].mode()[0],inplace=True)\n",
    "df['possibly_sensitive'].fillna(df['possibly_sensitive'].mode()[0],inplace=True)"
   ]
  },
  {
   "cell_type": "code",
   "execution_count": 36,
   "metadata": {},
   "outputs": [
    {
     "data": {
      "text/plain": [
       "en      3408\n",
       "et      1152\n",
       "in       572\n",
       "tl       116\n",
       "es        68\n",
       "fi        50\n",
       "fr        46\n",
       "ht        42\n",
       "it        36\n",
       "hi        34\n",
       "und       32\n",
       "ja        28\n",
       "pl        16\n",
       "pt         6\n",
       "de         4\n",
       "tr         4\n",
       "nl         4\n",
       "no         2\n",
       "lang       1\n",
       "Name: lang, dtype: int64"
      ]
     },
     "execution_count": 36,
     "metadata": {},
     "output_type": "execute_result"
    }
   ],
   "source": [
    "# explore if there are another languages\n",
    "df['lang'].value_counts()"
   ]
  },
  {
   "cell_type": "code",
   "execution_count": 37,
   "metadata": {},
   "outputs": [],
   "source": [
    "# drop all rows having language different from english\n",
    "df = df.drop(df[df['lang'] != 'en'].index)"
   ]
  },
  {
   "cell_type": "code",
   "execution_count": 45,
   "metadata": {},
   "outputs": [],
   "source": [
    "# creating cleanedTweet dataframe\n",
    "cleanedTweet = pd.DataFrame(columns=['clean_text','polarity'])\n",
    "cleanedTweet['clean_text'] = df['original_text']\n",
    "cleanedTweet['polarity'] = df['polarity']\n",
    "cleanedTweet.dropna(inplace=True)"
   ]
  },
  {
   "cell_type": "code",
   "execution_count": 46,
   "metadata": {},
   "outputs": [],
   "source": [
    "# replacing hastags, username starting by @ and links\n",
    "def clean_text(text):\n",
    "    hashtag_removed = re.sub('(#[A-Za-z]+[A-Za-z0-9-_]+)', '', text)\n",
    "    removed_links = re.sub('http[s]?://(?:[a-zA-Z]|[0-9]|[$-_@.&+]|[!*\\(\\),]|(?:%[0-9a-fA-F][0-9a-fA-F]))+', '', text, flags=re.MULTILINE)\n",
    "    cleaned = re.sub('(@[A-Za-z]+[A-Za-z0-9-_]+)', '', removed_links)\n",
    "    return cleaned"
   ]
  },
  {
   "cell_type": "code",
   "execution_count": 47,
   "metadata": {},
   "outputs": [
    {
     "data": {
      "text/html": [
       "<div>\n",
       "<style scoped>\n",
       "    .dataframe tbody tr th:only-of-type {\n",
       "        vertical-align: middle;\n",
       "    }\n",
       "\n",
       "    .dataframe tbody tr th {\n",
       "        vertical-align: top;\n",
       "    }\n",
       "\n",
       "    .dataframe thead th {\n",
       "        text-align: right;\n",
       "    }\n",
       "</style>\n",
       "<table border=\"1\" class=\"dataframe\">\n",
       "  <thead>\n",
       "    <tr style=\"text-align: right;\">\n",
       "      <th></th>\n",
       "      <th>clean_text</th>\n",
       "      <th>polarity</th>\n",
       "    </tr>\n",
       "  </thead>\n",
       "  <tbody>\n",
       "    <tr>\n",
       "      <th>0</th>\n",
       "      <td>Giving forth life is becoming a burden in Keny...</td>\n",
       "      <td>0.319444</td>\n",
       "    </tr>\n",
       "    <tr>\n",
       "      <th>3</th>\n",
       "      <td>Today is World Day to Combat #Desertification ...</td>\n",
       "      <td>0.250000</td>\n",
       "    </tr>\n",
       "    <tr>\n",
       "      <th>4</th>\n",
       "      <td>Hearing #GregHunt say he's confident vaccines ...</td>\n",
       "      <td>0.500000</td>\n",
       "    </tr>\n",
       "    <tr>\n",
       "      <th>5</th>\n",
       "      <td>Buy airtime across all networks from Mpesa eve...</td>\n",
       "      <td>0.000000</td>\n",
       "    </tr>\n",
       "    <tr>\n",
       "      <th>6</th>\n",
       "      <td>Today is World Day to Combat #Desertification ...</td>\n",
       "      <td>0.250000</td>\n",
       "    </tr>\n",
       "    <tr>\n",
       "      <th>...</th>\n",
       "      <td>...</td>\n",
       "      <td>...</td>\n",
       "    </tr>\n",
       "    <tr>\n",
       "      <th>5613</th>\n",
       "      <td>Join  webinar on \"Carbon Credits from Waste Ma...</td>\n",
       "      <td>-0.200000</td>\n",
       "    </tr>\n",
       "    <tr>\n",
       "      <th>5615</th>\n",
       "      <td>In the latest episode of ’s #CarbonSmart podca...</td>\n",
       "      <td>0.279167</td>\n",
       "    </tr>\n",
       "    <tr>\n",
       "      <th>5616</th>\n",
       "      <td>Lambie has voted AGAINST Medivac, Carbon tax, ...</td>\n",
       "      <td>0.136364</td>\n",
       "    </tr>\n",
       "    <tr>\n",
       "      <th>5618</th>\n",
       "      <td>welkin moon giveaway bc i finally have money!\\...</td>\n",
       "      <td>0.154167</td>\n",
       "    </tr>\n",
       "    <tr>\n",
       "      <th>5620</th>\n",
       "      <td>This is the first time I've seen the Governmen...</td>\n",
       "      <td>0.130000</td>\n",
       "    </tr>\n",
       "  </tbody>\n",
       "</table>\n",
       "<p>3408 rows × 2 columns</p>\n",
       "</div>"
      ],
      "text/plain": [
       "                                             clean_text  polarity\n",
       "0     Giving forth life is becoming a burden in Keny...  0.319444\n",
       "3     Today is World Day to Combat #Desertification ...  0.250000\n",
       "4     Hearing #GregHunt say he's confident vaccines ...  0.500000\n",
       "5     Buy airtime across all networks from Mpesa eve...  0.000000\n",
       "6     Today is World Day to Combat #Desertification ...  0.250000\n",
       "...                                                 ...       ...\n",
       "5613  Join  webinar on \"Carbon Credits from Waste Ma... -0.200000\n",
       "5615  In the latest episode of ’s #CarbonSmart podca...  0.279167\n",
       "5616  Lambie has voted AGAINST Medivac, Carbon tax, ...  0.136364\n",
       "5618  welkin moon giveaway bc i finally have money!\\...  0.154167\n",
       "5620  This is the first time I've seen the Governmen...  0.130000\n",
       "\n",
       "[3408 rows x 2 columns]"
      ]
     },
     "execution_count": 47,
     "metadata": {},
     "output_type": "execute_result"
    }
   ],
   "source": [
    "# cleaning and inspecting the whole dataframe\n",
    "cleanedTweet['clean_text'] = cleanedTweet['clean_text'].apply(clean_text)\n",
    "cleanedTweet"
   ]
  },
  {
   "cell_type": "code",
   "execution_count": 48,
   "metadata": {},
   "outputs": [
    {
     "data": {
      "text/plain": [
       " 0.000000    848\n",
       "-0.100000    208\n",
       " 0.136364    196\n",
       " 0.154167    144\n",
       " 0.400000    110\n",
       "            ... \n",
       " 0.275000      2\n",
       "-0.279167      2\n",
       " 0.568182      2\n",
       "-0.121212      2\n",
       " 0.279167      2\n",
       "Name: polarity, Length: 230, dtype: int64"
      ]
     },
     "execution_count": 48,
     "metadata": {},
     "output_type": "execute_result"
    }
   ],
   "source": [
    "df['polarity'].value_counts()"
   ]
  },
  {
   "cell_type": "code",
   "execution_count": 49,
   "metadata": {},
   "outputs": [
    {
     "name": "stdout",
     "output_type": "stream",
     "text": [
      "sum of null values in clean_text column: 0\n",
      "sum of null values in polarity cloumn: 0\n"
     ]
    }
   ],
   "source": [
    "# checking if there are null values\n",
    "text_null_sum = df['clean_text'].isnull().sum()\n",
    "polarity_null_sum = df['polarity'].isnull().sum()\n",
    "\n",
    "print(f'sum of null values in clean_text column: {text_null_sum}')\n",
    "print(f'sum of null values in polarity cloumn: {polarity_null_sum}')"
   ]
  },
  {
   "cell_type": "markdown",
   "metadata": {},
   "source": [
    "Data Preparation"
   ]
  },
  {
   "cell_type": "code",
   "execution_count": 50,
   "metadata": {},
   "outputs": [],
   "source": [
    "df.polarity = df.polarity.astype(float)"
   ]
  },
  {
   "cell_type": "code",
   "execution_count": 51,
   "metadata": {},
   "outputs": [],
   "source": [
    "# takes polarity and returns a string either postive, negative or neutral\n",
    "\n",
    "def text_category(p: float) -> str:\n",
    "    if float(p) > 0:\n",
    "        return \"positive\"\n",
    "    elif float(p) == 0:\n",
    "        return \"neutral\"\n",
    "    else:\n",
    "        return \"negative\""
   ]
  },
  {
   "cell_type": "code",
   "execution_count": 52,
   "metadata": {},
   "outputs": [
    {
     "data": {
      "text/plain": [
       "positive    1960\n",
       "neutral      848\n",
       "negative     600\n",
       "Name: score, dtype: int64"
      ]
     },
     "execution_count": 52,
     "metadata": {},
     "output_type": "execute_result"
    }
   ],
   "source": [
    "# creating score column by applying text_category\n",
    "cleanedTweet['score'] = cleanedTweet['polarity'].apply(text_category)\n",
    "cleanedTweet['score'].value_counts()"
   ]
  },
  {
   "cell_type": "code",
   "execution_count": 68,
   "metadata": {},
   "outputs": [],
   "source": [
    "from sklearn.feature_extraction.text import CountVectorizer, TfidfTransformer\n",
    "from sklearn.linear_model import SGDClassifier\n",
    "from sklearn.model_selection import train_test_split"
   ]
  },
  {
   "cell_type": "code",
   "execution_count": 69,
   "metadata": {},
   "outputs": [
    {
     "data": {
      "text/plain": [
       "<AxesSubplot:title={'center':'score'}>"
      ]
     },
     "execution_count": 69,
     "metadata": {},
     "output_type": "execute_result"
    },
    {
     "data": {
      "image/png": "[encoded data removed]",
      "text/plain": [
       "<Figure size 576x576 with 1 Axes>"
      ]
     },
     "metadata": {
      "needs_background": "light"
     },
     "output_type": "display_data"
    }
   ],
   "source": [
    "# Grouping the scores and plotting bar graph\n",
    "score_count =  cleanedTweet['score'].value_counts()\n",
    "score_count.plot(kind=\"bar\", y=\"score\", title=\"score\", figsize=[8, 8])"
   ]
  },
  {
   "cell_type": "code",
   "execution_count": 70,
   "metadata": {},
   "outputs": [
    {
     "data": {
      "text/plain": [
       "<AxesSubplot:title={'center':'score'}, ylabel='score'>"
      ]
     },
     "execution_count": 70,
     "metadata": {},
     "output_type": "execute_result"
    },
    {
     "data": {
      "image/png": "[encoded data removed]",
      "text/plain": [
       "<Figure size 576x576 with 1 Axes>"
      ]
     },
     "metadata": {},
     "output_type": "display_data"
    }
   ],
   "source": [
    "score_count.plot(kind=\"pie\", y=\"score\", title=\"score\", x=\"\", figsize=[8, 8])"
   ]
  },
  {
   "cell_type": "code",
   "execution_count": 71,
   "metadata": {},
   "outputs": [],
   "source": [
    "# takes a string and returns if a value is \"neutral\"\n",
    "def remove_neutral(value):\n",
    "    return value != \"neutral\""
   ]
  },
  {
   "cell_type": "code",
   "execution_count": 72,
   "metadata": {},
   "outputs": [],
   "source": [
    "cleanedTweet = cleanedTweet[cleanedTweet['score'].map(remove_neutral)]\n",
    "cleanedTweet['score_map'] = cleanedTweet[\"score\"].map( lambda score: 1 if score == \"positive\" else 0)"
   ]
  },
  {
   "cell_type": "code",
   "execution_count": 73,
   "metadata": {},
   "outputs": [],
   "source": [
    "# transforming clean_tex bygetting the root word of clean_text words using Stemming\n",
    "cleanedTweet['clean_text'] = cleanedTweet['clean_text'].apply(get_stem_word)"
   ]
  },
  {
   "cell_type": "code",
   "execution_count": 74,
   "metadata": {},
   "outputs": [],
   "source": [
    "# splitting into input and output\n",
    "(X, y) = cleanedTweet['clean_text'], cleanedTweet['score_map']"
   ]
  },
  {
   "cell_type": "code",
   "execution_count": 75,
   "metadata": {},
   "outputs": [
    {
     "data": {
      "text/plain": [
       "CountVectorizer(ngram_range=(1, 3))"
      ]
     },
     "execution_count": 75,
     "metadata": {},
     "output_type": "execute_result"
    }
   ],
   "source": [
    "# creating CountVectorizer and fitting it\n",
    "trigram_vectorizer = CountVectorizer(ngram_range=(1, 3))\n",
    "trigram_vectorizer.fit(X.values)"
   ]
  },
  {
   "cell_type": "code",
   "execution_count": 76,
   "metadata": {},
   "outputs": [],
   "source": [
    "# creating a tri_gram Vector representation for X\n",
    "X_trigram = trigram_vectorizer.transform(X.values)"
   ]
  },
  {
   "cell_type": "code",
   "execution_count": 77,
   "metadata": {},
   "outputs": [
    {
     "data": {
      "text/plain": [
       "TfidfTransformer()"
      ]
     },
     "execution_count": 77,
     "metadata": {},
     "output_type": "execute_result"
    }
   ],
   "source": [
    "# creating a trigram tfidf transformer\n",
    "trigram_tf_idf_transformer = TfidfTransformer()\n",
    "trigram_tf_idf_transformer.fit(X_trigram)"
   ]
  },
  {
   "cell_type": "code",
   "execution_count": 78,
   "metadata": {},
   "outputs": [],
   "source": [
    "# creating a tfidf representation of x\n",
    "X_train_tf_idf = trigram_tf_idf_transformer.transform(X_trigram)"
   ]
  },
  {
   "cell_type": "code",
   "execution_count": 93,
   "metadata": {},
   "outputs": [],
   "source": [
    "def train_and_show_scores(X, y, title: str) -> None:\n",
    "    X_train, X_valid, y_train, y_valid = train_test_split(\n",
    "        X, y, train_size=0.75, stratify=y\n",
    "    )\n",
    "\n",
    "    clf = SGDClassifier()\n",
    "    clf.fit(X_train, y_train)\n",
    "    train_score = clf.score(X_train, y_train)\n",
    "    valid_score = clf.score(X_valid, y_valid)\n",
    "    print(f'{title}\\nTrain score: {round(train_score, 2)} ; Validation score: {round(valid_score, 2)}\\n')"
   ]
  },
  {
   "cell_type": "code",
   "execution_count": 94,
   "metadata": {},
   "outputs": [
    {
     "name": "stdout",
     "output_type": "stream",
     "text": [
      "trigram\n",
      "Train score: 1.0 ; Validation score: 0.99\n",
      "\n"
     ]
    }
   ],
   "source": [
    "train_and_show_scores(X_trigram, y, title=\"trigram\")"
   ]
  },
  {
   "cell_type": "code",
   "execution_count": 95,
   "metadata": {},
   "outputs": [
    {
     "name": "stdout",
     "output_type": "stream",
     "text": [
      "trigram_tf_idf\n",
      "Train score: 1.0 ; Validation score: 0.99\n",
      "\n"
     ]
    }
   ],
   "source": [
    "train_and_show_scores(X_train_tf_idf, y, title=\"trigram_tf_idf\")"
   ]
  },
  {
   "cell_type": "code",
   "execution_count": 99,
   "metadata": {},
   "outputs": [],
   "source": [
    "from sklearn.ensemble import RandomForestClassifier\n",
    "def train_and_show_scores1(X, y, title: str) -> None:\n",
    "    X_train, X_valid, y_train, y_valid = train_test_split(\n",
    "        X, y, train_size=0.75, stratify=y\n",
    "    )\n",
    "\n",
    "    clf = RandomForestClassifier()\n",
    "    clf.fit(X_train, y_train)\n",
    "    train_score = clf.score(X_train, y_train)\n",
    "    valid_score = clf.score(X_valid, y_valid)\n",
    "    print(f'{title}\\nTrain score: {round(train_score, 2)} ; Validation score: {round(valid_score, 2)}\\n')"
   ]
  },
  {
   "cell_type": "code",
   "execution_count": 100,
   "metadata": {},
   "outputs": [
    {
     "name": "stdout",
     "output_type": "stream",
     "text": [
      "trigram\n",
      "Train score: 1.0 ; Validation score: 1.0\n",
      "\n"
     ]
    }
   ],
   "source": [
    "train_and_show_scores1(X_trigram, y, title=\"trigram\")"
   ]
  },
  {
   "cell_type": "code",
   "execution_count": 101,
   "metadata": {},
   "outputs": [
    {
     "name": "stdout",
     "output_type": "stream",
     "text": [
      "trigram_tf_idf\n",
      "Train score: 1.0 ; Validation score: 0.99\n",
      "\n"
     ]
    }
   ],
   "source": [
    "train_and_show_scores1(X_train_tf_idf, y, title=\"trigram_tf_idf\")"
   ]
  },
  {
   "cell_type": "markdown",
   "metadata": {},
   "source": [
    "Topic Modelling"
   ]
  },
  {
   "cell_type": "code",
   "execution_count": 5,
   "metadata": {},
   "outputs": [],
   "source": [
    "# !pip3 install pyLDAvis"
   ]
  },
  {
   "cell_type": "code",
   "execution_count": 8,
   "metadata": {},
   "outputs": [],
   "source": [
    "import string\n",
    "import gensim\n",
    "import pyLDAvis\n",
    "import pyLDAvis.gensim_models\n",
    "from gensim.models import CoherenceModel\n",
    "from gensim import corpora\n",
    "from pprint import pprint\n",
    "import warnings\n",
    "warnings.filterwarnings('ignore')"
   ]
  },
  {
   "cell_type": "code",
   "execution_count": 9,
   "metadata": {},
   "outputs": [],
   "source": [
    "# it removes stop words\n",
    "def rem_stopwords(sent: str) -> str:\n",
    "    sent_list = sent.split()\n",
    "    return ' '.join([word for word in sent_list if word not in STOPWORDS])"
   ]
  },
  {
   "cell_type": "code",
   "execution_count": 19,
   "metadata": {},
   "outputs": [],
   "source": [
    "import pandas as pd\n",
    "class TopicModel:\n",
    "    def __init__(self, tweet_df: pd.DataFrame, num_of_topics: int, do_stemming = False):\n",
    "        self.df = tweet_df\n",
    "        self.num_of_topics = num_of_topics\n",
    "        self.do_stemming = do_stemming\n",
    "\n",
    "    def extract_text_df(self):\n",
    "        self.df = pd.DataFrame(self.df['clean_text']) \n",
    "        return self.df\n",
    "    \n",
    "    def further_pre_process(self):\n",
    "        \n",
    "        self.df['clean_text']= df['clean_text'].apply(lambda x: str(x).translate(str.maketrans(' ', ' ', string.punctuation))) \n",
    "        \n",
    "        self.df['clean_text'] = self.df['clean_text'].apply(rem_stopwords)\n",
    "        \n",
    "        return self.df\n",
    "    \n",
    "    def prepare_inputs(self, stemming=False):\n",
    "        \n",
    "        df = self.extract_text_df()\n",
    "        df = self.further_pre_process()\n",
    "        \n",
    "        sentence_list = [text for text in self.df['clean_text']]\n",
    "        \n",
    "        if (stemming):      \n",
    "            sentence_list = [get_stem_word(sentence) for sentence in sentence_list]\n",
    "        \n",
    "        word_list = [sent.split() for sent in sentence_list]\n",
    "        word_to_int = corpora.Dictionary(word_list)\n",
    "        \n",
    "        corpus = [word_to_int.doc2bow(tweet) for tweet in word_list]\n",
    "        \n",
    "        return word_list, word_to_int, corpus\n",
    "    \n",
    "    def lda_prepared(self, lda_model, corpus,  word_list):\n",
    "        pyLDAvis.enable_notebook()\n",
    "        LDAvis_prepared = pyLDAvis.gensim_models.prepare(lda_model, corpus, word_list)\n",
    "        return LDAvis_prepared\n",
    "        \n",
    "    def build(self, show_print=False):\n",
    "        word_list, word_to_int, corpus = self.prepare_inputs(self.do_stemming)\n",
    "        \n",
    "        lda_model = gensim.models.ldamodel.LdaModel(\n",
    "            corpus, id2word=word_to_int,num_topics=self.num_of_topics, \n",
    "            random_state=100, update_every=1, \n",
    "            chunksize=100, passes=10, alpha='auto',\n",
    "            per_word_topics=True\n",
    "        )\n",
    "        lda_prepared = self.lda_prepared(lda_model, corpus, word_to_int)\n",
    "        \n",
    "        if show_print:\n",
    "            pprint(lda_model.print_topics())\n",
    "        \n",
    "        return lda_model, lda_prepared"
   ]
  },
  {
   "cell_type": "code",
   "execution_count": 21,
   "metadata": {},
   "outputs": [],
   "source": [
    "topicmodel = TopicModel(df, 8)\n",
    "# lda_model, lda_prepared =topicmodel.build(show_print=True)"
   ]
  },
  {
   "cell_type": "code",
   "execution_count": null,
   "metadata": {},
   "outputs": [],
   "source": []
  },
  {
   "cell_type": "code",
   "execution_count": null,
   "metadata": {},
   "outputs": [],
   "source": []
  },
  {
   "cell_type": "code",
   "execution_count": 14,
   "metadata": {},
   "outputs": [],
   "source": []
  }
 ],
 "metadata": {
  "kernelspec": {
   "display_name": "Python 3.8.10 64-bit",
   "language": "python",
   "name": "python3"
  },
  "language_info": {
   "codemirror_mode": {
    "name": "ipython",
    "version": 3
   },
   "file_extension": ".py",
   "mimetype": "text/x-python",
   "name": "python",
   "nbconvert_exporter": "python",
   "pygments_lexer": "ipython3",
   "version": "3.8.10"
  },
  "orig_nbformat": 4,
  "vscode": {
   "interpreter": {
    "hash": "916dbcbb3f70747c44a77c7bcd40155683ae19c65e1c03b4aa3499c5328201f1"
   }
  }
 },
 "nbformat": 4,
 "nbformat_minor": 2
}
